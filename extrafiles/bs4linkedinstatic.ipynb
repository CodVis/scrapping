{
 "cells": [
  {
   "cell_type": "code",
   "execution_count": 1,
   "metadata": {},
   "outputs": [
    {
     "name": "stdout",
     "output_type": "stream",
     "text": [
      "Requirement already satisfied: selenium in c:\\users\\niharika\\anaconda3\\lib\\site-packages (3.141.0)\n",
      "Requirement already satisfied: urllib3 in c:\\users\\niharika\\anaconda3\\lib\\site-packages (from selenium) (1.24.2)\n"
     ]
    }
   ],
   "source": [
    "!pip install selenium\n"
   ]
  },
  {
   "cell_type": "code",
   "execution_count": 2,
   "metadata": {},
   "outputs": [
    {
     "name": "stdout",
     "output_type": "stream",
     "text": [
      "Requirement already satisfied: beautifulsoup4 in c:\\users\\niharika\\anaconda3\\lib\\site-packages (4.8.0)\n",
      "Requirement already satisfied: soupsieve>=1.2 in c:\\users\\niharika\\anaconda3\\lib\\site-packages (from beautifulsoup4) (1.9.3)\n"
     ]
    }
   ],
   "source": [
    "!pip install beautifulsoup4\n"
   ]
  },
  {
   "cell_type": "code",
   "execution_count": 94,
   "metadata": {},
   "outputs": [],
   "source": [
    "import requests, time, random\n",
    "from bs4 import BeautifulSoup\n",
    "from selenium import webdriver"
   ]
  },
  {
   "cell_type": "code",
   "execution_count": 95,
   "metadata": {},
   "outputs": [],
   "source": [
    "browser = webdriver.Chrome('chromedriver.exe')\n",
    "browser.get('https://www.instagram.com')\n",
    "file = open('config.txt')"
   ]
  },
  {
   "cell_type": "code",
   "execution_count": 96,
   "metadata": {},
   "outputs": [],
   "source": [
    "lines = file.readlines()\n",
    "username = lines[0]\n",
    "password = lines[1]"
   ]
  },
  {
   "cell_type": "code",
   "execution_count": 97,
   "metadata": {},
   "outputs": [],
   "source": [
    "elementID = browser.find_element_by_name('username')\n",
    "elementID.send_keys(username)\n",
    "\n",
    "elementID = browser.find_element_by_name('password')\n",
    "elementID.send_keys(password)\n",
    "\n",
    "elementID.submit()\n"
   ]
  },
  {
   "cell_type": "code",
   "execution_count": 107,
   "metadata": {},
   "outputs": [],
   "source": [
    "browser.get('https://www.instagram.com/'+username)"
   ]
  },
  {
   "cell_type": "code",
   "execution_count": 108,
   "metadata": {},
   "outputs": [],
   "source": [
    "src = browser.page_source\n",
    "soup = BeautifulSoup(src, 'html.parser')"
   ]
  },
  {
   "cell_type": "code",
   "execution_count": 109,
   "metadata": {},
   "outputs": [
    {
     "data": {
      "text/plain": [
       "<title>Niharikha shilamamidi (@niharikha__s) • Instagram photos and videos</title>"
      ]
     },
     "execution_count": 109,
     "metadata": {},
     "output_type": "execute_result"
    }
   ],
   "source": [
    "soup.title"
   ]
  },
  {
   "cell_type": "code",
   "execution_count": 110,
   "metadata": {},
   "outputs": [],
   "source": [
    "name_div =  soup.findAll('div', {'id': 'react-root'})\n"
   ]
  },
  {
   "cell_type": "code",
   "execution_count": 145,
   "metadata": {},
   "outputs": [
    {
     "data": {
      "text/plain": [
       "[<div id=\"react-root\"><form enctype=\"multipart/form-data\" method=\"POST\" role=\"presentation\"><input accept=\"image/jpeg\" class=\"tb_sK\" type=\"file\"/></form><section class=\"_9eogI E3X2T\"><div></div><main class=\"SCxLW o64aR\" role=\"main\"><div class=\"v9tJq AAaSh VfzDr\"><header class=\"vtbgv\"><div class=\"XjzKX\"><div class=\"_4dMfM\"><div class=\"M-jxE\"><button class=\"IalUJ\" title=\"Change Profile Photo\"><img alt=\"Change Profile Photo\" class=\"be6sR\" src=\"https://instagram.fhyd11-1.fna.fbcdn.net/v/t51.2885-19/s320x320/180731166_200169128584171_7574486596926699731_n.jpg?_nc_ht=instagram.fhyd11-1.fna.fbcdn.net&amp;_nc_ohc=2n43UQ9XUYoAX9Sc91I&amp;tn=ImyOkD-h_gbBrfkE&amp;edm=ABfd0MgBAAAA&amp;ccb=7-4&amp;oh=73fbfb688cd040b203ca39a612e7344c&amp;oe=61178266&amp;_nc_sid=7bff83\"/></button><div><form enctype=\"multipart/form-data\" method=\"POST\" role=\"presentation\"><input accept=\"image/jpeg,image/png\" class=\"tb_sK\" type=\"file\"/></form></div></div></div></div><section class=\"zwlfE\"><div class=\"nZSzR\"><h2 class=\"_7UhW9 fKFbl yUEEX KV-D4 fDxYl\">niharikha__s</h2><div class=\"QzzMF Igw0E IwRSH eGOV_ ui_ht bPdm3\"><a class=\"sqdOP L3NKy _8A5w5 ZIAjV\" href=\"/accounts/edit/\" tabindex=\"0\">Edit Profile</a></div><div class=\"AFWDX\"><button class=\"wpO6b\" type=\"button\"><div class=\"QBdPU\"><svg aria-label=\"Options\" class=\"_8-yf5\" fill=\"#262626\" height=\"24\" role=\"img\" viewbox=\"0 0 48 48\" width=\"24\"><path clip-rule=\"evenodd\" d=\"M46.7 20.6l-2.1-1.1c-.4-.2-.7-.5-.8-1-.5-1.6-1.1-3.2-1.9-4.7-.2-.4-.3-.8-.1-1.2l.8-2.3c.2-.5 0-1.1-.4-1.5l-2.9-2.9c-.4-.4-1-.5-1.5-.4l-2.3.8c-.4.1-.8.1-1.2-.1-1.4-.8-3-1.5-4.6-1.9-.4-.1-.8-.4-1-.8l-1.1-2.2c-.3-.5-.8-.8-1.3-.8h-4.1c-.6 0-1.1.3-1.3.8l-1.1 2.2c-.2.4-.5.7-1 .8-1.6.5-3.2 1.1-4.6 1.9-.4.2-.8.3-1.2.1l-2.3-.8c-.5-.2-1.1 0-1.5.4L5.9 8.8c-.4.4-.5 1-.4 1.5l.8 2.3c.1.4.1.8-.1 1.2-.8 1.5-1.5 3-1.9 4.7-.1.4-.4.8-.8 1l-2.1 1.1c-.5.3-.8.8-.8 1.3V26c0 .6.3 1.1.8 1.3l2.1 1.1c.4.2.7.5.8 1 .5 1.6 1.1 3.2 1.9 4.7.2.4.3.8.1 1.2l-.8 2.3c-.2.5 0 1.1.4 1.5L8.8 42c.4.4 1 .5 1.5.4l2.3-.8c.4-.1.8-.1 1.2.1 1.4.8 3 1.5 4.6 1.9.4.1.8.4 1 .8l1.1 2.2c.3.5.8.8 1.3.8h4.1c.6 0 1.1-.3 1.3-.8l1.1-2.2c.2-.4.5-.7 1-.8 1.6-.5 3.2-1.1 4.6-1.9.4-.2.8-.3 1.2-.1l2.3.8c.5.2 1.1 0 1.5-.4l2.9-2.9c.4-.4.5-1 .4-1.5l-.8-2.3c-.1-.4-.1-.8.1-1.2.8-1.5 1.5-3 1.9-4.7.1-.4.4-.8.8-1l2.1-1.1c.5-.3.8-.8.8-1.3v-4.1c.4-.5.1-1.1-.4-1.3zM24 41.5c-9.7 0-17.5-7.8-17.5-17.5S14.3 6.5 24 6.5 41.5 14.3 41.5 24 33.7 41.5 24 41.5z\" fill-rule=\"evenodd\"></path></svg></div></button></div></div><ul class=\"k9GMp\"><li class=\"Y8-fY\"><span class=\"-nal3\"><span class=\"g47SY\">0</span> posts</span></li><li class=\"Y8-fY\"><a class=\"-nal3\" href=\"/niharikha__s/followers/\" tabindex=\"0\"><span class=\"g47SY\" title=\"170\">170</span> followers</a></li><li class=\"Y8-fY\"><a class=\"-nal3\" href=\"/niharikha__s/following/\" tabindex=\"0\"><span class=\"g47SY\">152</span> following</a></li></ul><div class=\"-vDIg\"><h1 class=\"rhpdm\">Niharikha shilamamidi</h1><br/><span>NIHARIKHA SHILAMAMIDI</span> </div></section></header><div class=\"fx7hk\" role=\"tablist\"><a aria-selected=\"true\" class=\"_9VEo1 T-jvg\" href=\"/niharikha__s/\" role=\"tab\" tabindex=\"0\"><span class=\"smsjF\"><svg aria-label=\"\" class=\"_8-yf5\" fill=\"#262626\" height=\"12\" role=\"img\" viewbox=\"0 0 48 48\" width=\"12\"><path clip-rule=\"evenodd\" d=\"M45 1.5H3c-.8 0-1.5.7-1.5 1.5v42c0 .8.7 1.5 1.5 1.5h42c.8 0 1.5-.7 1.5-1.5V3c0-.8-.7-1.5-1.5-1.5zm-40.5 3h11v11h-11v-11zm0 14h11v11h-11v-11zm11 25h-11v-11h11v11zm14 0h-11v-11h11v11zm0-14h-11v-11h11v11zm0-14h-11v-11h11v11zm14 28h-11v-11h11v11zm0-14h-11v-11h11v11zm0-14h-11v-11h11v11z\" fill-rule=\"evenodd\"></path></svg><span class=\"PJXu4\">Posts</span></span></a><a aria-selected=\"false\" class=\"_9VEo1\" href=\"/niharikha__s/channel/\" role=\"tab\" tabindex=\"0\"><span class=\"smsjF\"><svg aria-label=\"\" class=\"_8-yf5\" fill=\"#8e8e8e\" height=\"12\" role=\"img\" viewbox=\"0 0 48 48\" width=\"12\"><path d=\"M41 10c-2.2-2.1-4.8-3.5-10.4-3.5h-3.3L30.5 3c.6-.6.5-1.6-.1-2.1-.6-.6-1.6-.5-2.1.1L24 5.6 19.7 1c-.6-.6-1.5-.6-2.1-.1-.6.6-.7 1.5-.1 2.1l3.2 3.5h-3.3C11.8 6.5 9.2 7.9 7 10c-2.1 2.2-3.5 4.8-3.5 10.4v13.1c0 5.7 1.4 8.3 3.5 10.5 2.2 2.1 4.8 3.5 10.4 3.5h13.1c5.7 0 8.3-1.4 10.5-3.5 2.1-2.2 3.5-4.8 3.5-10.4V20.5c0-5.7-1.4-8.3-3.5-10.5zm.5 23.6c0 5.2-1.3 7-2.6 8.3-1.4 1.3-3.2 2.6-8.4 2.6H17.4c-5.2 0-7-1.3-8.3-2.6-1.3-1.4-2.6-3.2-2.6-8.4v-13c0-5.2 1.3-7 2.6-8.3 1.4-1.3 3.2-2.6 8.4-2.6h13.1c5.2 0 7 1.3 8.3 2.6 1.3 1.4 2.6 3.2 2.6 8.4v13zM34.6 25l-9.1 2.8v-3.7c0-.5-.2-.9-.6-1.2-.4-.3-.9-.4-1.3-.2l-11.1 3.4c-.8.2-1.2 1.1-1 1.9.2.8 1.1 1.2 1.9 1l9.1-2.8v3.7c0 .5.2.9.6 1.2.3.2.6.3.9.3.1 0 .3 0 .4-.1l11.1-3.4c.8-.2 1.2-1.1 1-1.9s-1.1-1.2-1.9-1z\"></path></svg><span class=\"PJXu4\">IGTV</span></span></a><a aria-selected=\"false\" class=\"_9VEo1\" href=\"/niharikha__s/saved/\" role=\"tab\" tabindex=\"0\"><div class=\"Igw0E rBNOH eGOV_ ybXk5 _4EzTm\"><svg aria-label=\"\" class=\"_8-yf5\" fill=\"#8e8e8e\" height=\"12\" role=\"img\" viewbox=\"0 0 48 48\" width=\"12\"><path d=\"M43.5 48c-.4 0-.8-.2-1.1-.4L24 29 5.6 47.6c-.4.4-1.1.6-1.6.3-.6-.2-1-.8-1-1.4v-45C3 .7 3.7 0 4.5 0h39c.8 0 1.5.7 1.5 1.5v45c0 .6-.4 1.2-.9 1.4-.2.1-.4.1-.6.1zM24 26c.8 0 1.6.3 2.2.9l15.8 16V3H6v39.9l15.8-16c.6-.6 1.4-.9 2.2-.9z\"></path></svg><span class=\"W9_iZ\">Saved</span></div></a><a aria-selected=\"false\" class=\"_9VEo1\" href=\"/niharikha__s/tagged/\" role=\"tab\" tabindex=\"0\"><span class=\"qzihg\"><svg aria-label=\"\" class=\"_8-yf5\" fill=\"#8e8e8e\" height=\"12\" role=\"img\" viewbox=\"0 0 48 48\" width=\"12\"><path d=\"M41.5 5.5H30.4c-.5 0-1-.2-1.4-.6l-4-4c-.6-.6-1.5-.6-2.1 0l-4 4c-.4.4-.9.6-1.4.6h-11c-3.3 0-6 2.7-6 6v30c0 3.3 2.7 6 6 6h35c3.3 0 6-2.7 6-6v-30c0-3.3-2.7-6-6-6zm-29.4 39c-.6 0-1.1-.6-1-1.2.7-3.2 3.5-5.6 6.8-5.6h12c3.4 0 6.2 2.4 6.8 5.6.1.6-.4 1.2-1 1.2H12.1zm32.4-3c0 1.7-1.3 3-3 3h-.6c-.5 0-.9-.4-1-.9-.6-5-4.8-8.9-9.9-8.9H18c-5.1 0-9.4 3.9-9.9 8.9-.1.5-.5.9-1 .9h-.6c-1.7 0-3-1.3-3-3v-30c0-1.7 1.3-3 3-3h11.1c1.3 0 2.6-.5 3.5-1.5L24 4.1 26.9 7c.9.9 2.2 1.5 3.5 1.5h11.1c1.7 0 3 1.3 3 3v30zM24 12.5c-5.3 0-9.6 4.3-9.6 9.6s4.3 9.6 9.6 9.6 9.6-4.3 9.6-9.6-4.3-9.6-9.6-9.6zm0 16.1c-3.6 0-6.6-2.9-6.6-6.6 0-3.6 2.9-6.6 6.6-6.6s6.6 2.9 6.6 6.6c0 3.6-3 6.6-6.6 6.6z\"></path></svg><span class=\"_08DtY\">Tagged</span></span></a></div><div class=\"_2z6nI\"><article class=\"ySN3v\"><div class=\"jju9v\"><div class=\"m41U8\"><img alt=\"\" class=\"_61V1C\" src=\"/static/images/mediaUpsell.jpg/6efc710a1d5a.jpg\"/></div><div class=\"mDC51\"><div class=\"JLbVX\"><h2 class=\"Kr222\">Start capturing and sharing your moments.</h2><h3 class=\"c-Vw8\">Get the app to share your first photo or video.</h3><div class=\"SVLuk\"><a class=\"z1VUo\" href=\"https://itunes.apple.com/app/instagram/id389801252?pt=428156&amp;ct=igweb.profilePage.badge&amp;mt=8&amp;vt=li\" tabindex=\"0\"><img alt=\"Available on the App Store\" class=\"Rt8TI\" src=\"/static/images/appstore-install-badges/badge_ios_english-en.png/180ae7a0bcf7.png\"/></a><a class=\"z1VUo\" href=\"https://play.google.com/store/apps/details?id=com.instagram.android&amp;referrer=utm_source%3Dinstagramweb%26utm_campaign%3DprofilePage%26ig_mid%3D2488B348-2CAE-4D2F-A21C-581F5E681645%26utm_content%3Dli%26utm_medium%3Dbadge\" tabindex=\"0\"><img alt=\"Available on Google Play\" class=\"Rt8TI\" src=\"/static/images/appstore-install-badges/badge_android_english-en.png/e9cd846dc748.png\"/></a></div></div></div></div></article></div></div></main><nav class=\"NXc7H jLuN9\"><div class=\"R4HNP\"></div><div class=\"_8MQSO Cx7Bp\"><div class=\"_lz6s\"><div class=\"MWDvN\"><div class=\"oJZym\"><a href=\"/\" tabindex=\"0\"><div class=\"Igw0E rBNOH eGOV_ ybXk5 _4EzTm\"><div class=\"cq2ai\"><img alt=\"Instagram\" class=\"s4Iyt\" src=\"/static/images/web/mobile_nav_type_logo.png/735145cfe0a4.png\" srcset=\"/static/images/web/mobile_nav_type_logo-2x.png/1b47f9d0e595.png 2x\"/></div></div></a></div><div class=\"LWmhU _0aCwM\"><input autocapitalize=\"none\" class=\"XTCLo x3qfX\" placeholder=\"Search\" type=\"text\" value=\"\"/><div class=\"pbgfb Di7vw\" role=\"button\" tabindex=\"0\"><div class=\"eyXLr wUAXj\"><span class=\"_6RZXI coreSpriteSearchIcon\"></span><span class=\"TqC_a\">Search</span></div></div><div class=\"yPP5B\"></div></div><div class=\"ctQZg\"><div class=\"_47KiJ\"><div class=\"XrOey\"><div class=\"\"><a href=\"/\" tabindex=\"0\"><svg aria-label=\"Home\" class=\"_8-yf5\" fill=\"#262626\" height=\"22\" role=\"img\" viewbox=\"0 0 48 48\" width=\"22\"><path d=\"M45.3 48H30c-.8 0-1.5-.7-1.5-1.5V34.2c0-2.6-2-4.6-4.6-4.6s-4.6 2-4.6 4.6v12.3c0 .8-.7 1.5-1.5 1.5H2.5c-.8 0-1.5-.7-1.5-1.5V23c0-.4.2-.8.4-1.1L22.9.4c.6-.6 1.5-.6 2.1 0l21.5 21.5c.4.4.6 1.1.3 1.6 0 .1-.1.1-.1.2v22.8c.1.8-.6 1.5-1.4 1.5zm-13.8-3h12.3V23.4L24 3.6l-20 20V45h12.3V34.2c0-4.3 3.3-7.6 7.6-7.6s7.6 3.3 7.6 7.6V45z\"></path></svg></a></div></div><div class=\"XrOey\"><a class=\"xWeGp\" href=\"/direct/inbox/\" tabindex=\"0\"><svg aria-label=\"Messenger\" class=\"_8-yf5\" fill=\"#262626\" height=\"22\" role=\"img\" viewbox=\"0 0 48 48\" width=\"22\"><path d=\"M36.2 16.7L29 22.2c-.5.4-1.2.4-1.7 0l-5.4-4c-1.6-1.2-3.9-.8-5 .9l-6.8 10.7c-.7 1 .6 2.2 1.6 1.5l7.3-5.5c.5-.4 1.2-.4 1.7 0l5.4 4c1.6 1.2 3.9.8 5-.9l6.8-10.7c.6-1.1-.7-2.2-1.7-1.5zM24 1C11 1 1 10.5 1 23.3 1 30 3.7 35.8 8.2 39.8c.4.3.6.8.6 1.3l.2 4.1c0 1 .9 1.8 1.8 1.8.2 0 .5 0 .7-.2l4.6-2c.2-.1.5-.2.7-.2.2 0 .3 0 .5.1 2.1.6 4.3.9 6.7.9 13 0 23-9.5 23-22.3S37 1 24 1zm0 41.6c-2 0-4-.3-5.9-.8-.4-.1-.8-.2-1.3-.2-.7 0-1.3.1-2 .4l-3 1.3V41c0-1.3-.6-2.5-1.6-3.4C6.2 34 4 28.9 4 23.3 4 12.3 12.6 4 24 4s20 8.3 20 19.3-8.6 19.3-20 19.3z\"></path></svg></a></div><div class=\"XrOey\"><a href=\"/explore/\" tabindex=\"0\"><svg aria-label=\"Find People\" class=\"_8-yf5\" fill=\"#262626\" height=\"22\" role=\"img\" viewbox=\"0 0 48 48\" width=\"22\"><path clip-rule=\"evenodd\" d=\"M24 0C10.8 0 0 10.8 0 24s10.8 24 24 24 24-10.8 24-24S37.2 0 24 0zm0 45C12.4 45 3 35.6 3 24S12.4 3 24 3s21 9.4 21 21-9.4 21-21 21zm10.2-33.2l-14.8 7c-.3.1-.6.4-.7.7l-7 14.8c-.3.6-.2 1.3.3 1.7.3.3.7.4 1.1.4.2 0 .4 0 .6-.1l14.8-7c.3-.1.6-.4.7-.7l7-14.8c.3-.6.2-1.3-.3-1.7-.4-.5-1.1-.6-1.7-.3zm-7.4 15l-5.5-5.5 10.5-5-5 10.5z\" fill-rule=\"evenodd\"></path></svg></a></div><div class=\"XrOey\"><a class=\"_0ZPOP kIKUG\" href=\"/accounts/activity/\"><svg aria-label=\"Activity Feed\" class=\"_8-yf5\" fill=\"#262626\" height=\"22\" role=\"img\" viewbox=\"0 0 48 48\" width=\"22\"><path d=\"M34.6 6.1c5.7 0 10.4 5.2 10.4 11.5 0 6.8-5.9 11-11.5 16S25 41.3 24 41.9c-1.1-.7-4.7-4-9.5-8.3-5.7-5-11.5-9.2-11.5-16C3 11.3 7.7 6.1 13.4 6.1c4.2 0 6.5 2 8.1 4.3 1.9 2.6 2.2 3.9 2.5 3.9.3 0 .6-1.3 2.5-3.9 1.6-2.3 3.9-4.3 8.1-4.3m0-3c-4.5 0-7.9 1.8-10.6 5.6-2.7-3.7-6.1-5.5-10.6-5.5C6 3.1 0 9.6 0 17.6c0 7.3 5.4 12 10.6 16.5.6.5 1.3 1.1 1.9 1.7l2.3 2c4.4 3.9 6.6 5.9 7.6 6.5.5.3 1.1.5 1.6.5.6 0 1.1-.2 1.6-.5 1-.6 2.8-2.2 7.8-6.8l2-1.8c.7-.6 1.3-1.2 2-1.7C42.7 29.6 48 25 48 17.6c0-8-6-14.5-13.4-14.5z\"></path></svg></a><div class=\"poA5q\" style=\"margin-left: -423px;\"></div></div><div class=\"XrOey\"><div class=\"wWGrn\"></div><span class=\"_2dbep qNELH\" role=\"link\" style=\"width: 22px; height: 22px;\" tabindex=\"0\"><img alt=\"niharikha__s's profile picture\" class=\"_6q-tv\" crossorigin=\"anonymous\" data-testid=\"user-avatar\" draggable=\"false\" src=\"https://instagram.fhyd11-1.fna.fbcdn.net/v/t51.2885-19/s150x150/180731166_200169128584171_7574486596926699731_n.jpg?_nc_ht=instagram.fhyd11-1.fna.fbcdn.net&amp;_nc_ohc=2n43UQ9XUYoAX9Sc91I&amp;tn=ImyOkD-h_gbBrfkE&amp;edm=ABfd0MgBAAAA&amp;ccb=7-4&amp;oh=40ea0ba40a2ad7362e559350117201e3&amp;oe=61188E5E&amp;_nc_sid=7bff83\"/></span><div class=\"poA5q\" style=\"margin-left: -180px;\"></div></div></div></div></div></div></div></nav><footer class=\"_8Rna9 _3Laht pC2e0\" role=\"contentinfo\"><div class=\"Igw0E IwRSH eGOV_ _4EzTm KokQV\"><div class=\"Igw0E IwRSH eGOV_ _4EzTm kEKum\"><div class=\"Igw0E IwRSH YBx95 ybXk5 _4EzTm YlhBV\"><div class=\"Igw0E IwRSH eGOV_ _4EzTm _22l1 soMvl JI_ht\"><a href=\"https://about.instagram.com/\" rel=\"nofollow noopener noreferrer\" target=\"_blank\"><div class=\"_7UhW9 PIoXz MMzan _0PwGv uL8Hv\">About</div></a></div><div class=\"Igw0E IwRSH eGOV_ _4EzTm _22l1 soMvl JI_ht\"><a href=\"https://about.instagram.com/blog/\" rel=\"nofollow noopener noreferrer\" target=\"_blank\"><div class=\"_7UhW9 PIoXz MMzan _0PwGv uL8Hv\">Blog</div></a></div><div class=\"Igw0E IwRSH eGOV_ _4EzTm _22l1 soMvl JI_ht\"><a href=\"/about/jobs/\"><div class=\"_7UhW9 PIoXz MMzan _0PwGv uL8Hv\">Jobs</div></a></div><div class=\"Igw0E IwRSH eGOV_ _4EzTm _22l1 soMvl JI_ht\"><a href=\"https://help.instagram.com/\" rel=\"nofollow noopener noreferrer\" target=\"_blank\"><div class=\"_7UhW9 PIoXz MMzan _0PwGv uL8Hv\">Help</div></a></div><div class=\"Igw0E IwRSH eGOV_ _4EzTm _22l1 soMvl JI_ht\"><a href=\"https://developers.facebook.com/docs/instagram\" rel=\"nofollow noopener noreferrer\" target=\"_blank\"><div class=\"_7UhW9 PIoXz MMzan _0PwGv uL8Hv\">API</div></a></div><div class=\"Igw0E IwRSH eGOV_ _4EzTm _22l1 soMvl JI_ht\"><a href=\"/legal/privacy/\"><div class=\"_7UhW9 PIoXz MMzan _0PwGv uL8Hv\">Privacy</div></a></div><div class=\"Igw0E IwRSH eGOV_ _4EzTm _22l1 soMvl JI_ht\"><a href=\"/legal/terms/\"><div class=\"_7UhW9 PIoXz MMzan _0PwGv uL8Hv\">Terms</div></a></div><div class=\"Igw0E IwRSH eGOV_ _4EzTm _22l1 soMvl JI_ht\"><a href=\"/directory/profiles/\"><div class=\"_7UhW9 PIoXz MMzan _0PwGv uL8Hv\">Top Accounts</div></a></div><div class=\"Igw0E IwRSH eGOV_ _4EzTm _22l1 soMvl JI_ht\"><a href=\"/directory/hashtags/\"><div class=\"_7UhW9 PIoXz MMzan _0PwGv uL8Hv\">Hashtags</div></a></div><div class=\"Igw0E IwRSH eGOV_ _4EzTm _22l1 soMvl JI_ht\"><a href=\"/explore/locations/\"><div class=\"_7UhW9 PIoXz MMzan _0PwGv uL8Hv\">Locations</div></a></div></div><div class=\"Igw0E IwRSH YBx95 ybXk5 _4EzTm YlhBV\"><div class=\"Igw0E IwRSH eGOV_ _4EzTm _22l1 soMvl JI_ht\"><a href=\"/topics/beauty/\"><div class=\"_7UhW9 PIoXz MMzan _0PwGv uL8Hv\">Beauty</div></a></div><div class=\"Igw0E IwRSH eGOV_ _4EzTm _22l1 soMvl JI_ht\"><a href=\"/topics/dance-and-performance/\"><div class=\"_7UhW9 PIoXz MMzan _0PwGv uL8Hv\">Dance</div></a></div><div class=\"Igw0E IwRSH eGOV_ _4EzTm _22l1 soMvl JI_ht\"><a href=\"/topics/fitness/\"><div class=\"_7UhW9 PIoXz MMzan _0PwGv uL8Hv\">Fitness</div></a></div><div class=\"Igw0E IwRSH eGOV_ _4EzTm _22l1 soMvl JI_ht\"><a href=\"/topics/food-and-drink/\"><div class=\"_7UhW9 PIoXz MMzan _0PwGv uL8Hv\">Food &amp; Drink</div></a></div><div class=\"Igw0E IwRSH eGOV_ _4EzTm _22l1 soMvl JI_ht\"><a href=\"/topics/home-and-garden/\"><div class=\"_7UhW9 PIoXz MMzan _0PwGv uL8Hv\">Home &amp; Garden</div></a></div><div class=\"Igw0E IwRSH eGOV_ _4EzTm _22l1 soMvl JI_ht\"><a href=\"/topics/music/\"><div class=\"_7UhW9 PIoXz MMzan _0PwGv uL8Hv\">Music</div></a></div><div class=\"Igw0E IwRSH eGOV_ _4EzTm _22l1 soMvl JI_ht\"><a href=\"/topics/visual-arts/\"><div class=\"_7UhW9 PIoXz MMzan _0PwGv uL8Hv\">Visual Arts</div></a></div></div></div><div class=\"Igw0E IwRSH YBx95 ybXk5 _4EzTm _22l1 _49XvD\"><div class=\"_7UhW9 PIoXz MMzan KV-D4 uL8Hv\"><span class=\"_3G4x7 RFk-t bwz9f\"><div class=\"TQUPK\"><span>English</span><div class=\"Igw0E IwRSH eGOV_ _4EzTm WKY0a\"><span style=\"display: inline-block; transform: rotate(180deg);\"><svg aria-label=\"Down Chevron Icon\" class=\"_8-yf5\" fill=\"#8e8e8e\" height=\"12\" role=\"img\" viewbox=\"0 0 48 48\" width=\"12\"><path d=\"M40 33.5c-.4 0-.8-.1-1.1-.4L24 18.1l-14.9 15c-.6.6-1.5.6-2.1 0s-.6-1.5 0-2.1l16-16c.6-.6 1.5-.6 2.1 0l16 16c.6.6.6 1.5 0 2.1-.3.3-.7.4-1.1.4z\"></path></svg></span></div></div><select aria-label=\"Switch Display Language\" class=\"hztqj\"><option value=\"af\">Afrikaans</option><option value=\"cs\">Čeština</option><option value=\"da\">Dansk</option><option value=\"de\">Deutsch</option><option value=\"el\">Ελληνικά</option><option value=\"en\">English</option><option value=\"en-gb\">English (UK)</option><option value=\"es\">Español (España)</option><option value=\"es-la\">Español</option><option value=\"fi\">Suomi</option><option value=\"fr\">Français</option><option value=\"id\">Bahasa Indonesia</option><option value=\"it\">Italiano</option><option value=\"ja\">日本語</option><option value=\"ko\">한국어</option><option value=\"ms\">Bahasa Melayu</option><option value=\"nb\">Norsk</option><option value=\"nl\">Nederlands</option><option value=\"pl\">Polski</option><option value=\"pt-br\">Português (Brasil)</option><option value=\"pt\">Português (Portugal)</option><option value=\"ru\">Русский</option><option value=\"sv\">Svenska</option><option value=\"th\">ภาษาไทย</option><option value=\"tl\">Filipino</option><option value=\"tr\">Türkçe</option><option value=\"zh-cn\">中文(简体)</option><option value=\"zh-tw\">中文(台灣)</option><option value=\"bn\">বাংলা</option><option value=\"gu\">ગુજરાતી</option><option value=\"hi\">हिन्दी</option><option value=\"hr\">Hrvatski</option><option value=\"hu\">Magyar</option><option value=\"kn\">ಕನ್ನಡ</option><option value=\"ml\">മലയാളം</option><option value=\"mr\">मराठी</option><option value=\"ne\">नेपाली</option><option value=\"pa\">ਪੰਜਾਬੀ</option><option value=\"si\">සිංහල</option><option value=\"sk\">Slovenčina</option><option value=\"ta\">தமிழ்</option><option value=\"te\">తెలుగు</option><option value=\"vi\">Tiếng Việt</option><option value=\"zh-hk\">中文(香港)</option><option value=\"bg\">Български</option><option value=\"fr-ca\">Français (Canada)</option><option value=\"ro\">Română</option><option value=\"sr\">Српски</option><option value=\"uk\">Українська</option></select></span></div><div class=\"Igw0E IwRSH eGOV_ _4EzTm _5VUwz\"><div class=\"_7UhW9 PIoXz MMzan _0PwGv uL8Hv\">© 2021 Instagram from Facebook</div></div></div></div></footer></section></div>]"
      ]
     },
     "execution_count": 145,
     "metadata": {},
     "output_type": "execute_result"
    }
   ],
   "source": [
    "name_div"
   ]
  },
  {
   "cell_type": "code",
   "execution_count": 144,
   "metadata": {},
   "outputs": [
    {
     "data": {
      "text/plain": [
       "'0 posts'"
      ]
     },
     "execution_count": 144,
     "metadata": {},
     "output_type": "execute_result"
    }
   ],
   "source": [
    "soup.div.ul.span.get_text()"
   ]
  },
  {
   "cell_type": "code",
   "execution_count": 157,
   "metadata": {},
   "outputs": [
    {
     "data": {
      "text/plain": [
       "'Niharikha shilamamidi'"
      ]
     },
     "execution_count": 157,
     "metadata": {},
     "output_type": "execute_result"
    }
   ],
   "source": [
    "soup.div.h1.get_text().strip()"
   ]
  },
  {
   "cell_type": "code",
   "execution_count": 164,
   "metadata": {},
   "outputs": [
    {
     "data": {
      "text/plain": [
       "<li class=\"Y8-fY\"><span class=\"-nal3\"><span class=\"g47SY\">0</span> posts</span></li>"
      ]
     },
     "execution_count": 164,
     "metadata": {},
     "output_type": "execute_result"
    }
   ],
   "source": [
    "soup.div.li\n"
   ]
  },
  {
   "cell_type": "code",
   "execution_count": 190,
   "metadata": {},
   "outputs": [
    {
     "data": {
      "text/plain": [
       "'170'"
      ]
     },
     "execution_count": 190,
     "metadata": {},
     "output_type": "execute_result"
    }
   ],
   "source": [
    "soup.ul.a.span.get_text()\n"
   ]
  },
  {
   "cell_type": "code",
   "execution_count": 208,
   "metadata": {},
   "outputs": [
    {
     "data": {
      "text/plain": [
       "'0 posts170 followers152 following'"
      ]
     },
     "execution_count": 208,
     "metadata": {},
     "output_type": "execute_result"
    }
   ],
   "source": [
    "soup.ul.get_text()\n",
    "\n"
   ]
  },
  {
   "cell_type": "code",
   "execution_count": 209,
   "metadata": {},
   "outputs": [],
   "source": [
    "browser.get('https://www.instagram.com/accounts/access_tool/ads_interests')"
   ]
  },
  {
   "cell_type": "code",
   "execution_count": 210,
   "metadata": {},
   "outputs": [],
   "source": [
    "src = browser.page_source\n",
    "soup = BeautifulSoup(src, 'html.parser')"
   ]
  },
  {
   "cell_type": "code",
   "execution_count": 212,
   "metadata": {},
   "outputs": [
    {
     "data": {
      "text/plain": [
       "<title>Account Data • Instagram</title>"
      ]
     },
     "execution_count": 212,
     "metadata": {},
     "output_type": "execute_result"
    }
   ],
   "source": [
    "soup.title"
   ]
  },
  {
   "cell_type": "code",
   "execution_count": 227,
   "metadata": {},
   "outputs": [
    {
     "data": {
      "text/plain": [
       "'Application programming interfaceAllen SollyBangladeshSoftware developerTamil cinemaComedianMoviesBizim MutfakSQLYourStory'"
      ]
     },
     "execution_count": 227,
     "metadata": {},
     "output_type": "execute_result"
    }
   ],
   "source": [
    "soup.div.main.section.get_text()\n"
   ]
  },
  {
   "cell_type": "code",
   "execution_count": null,
   "metadata": {},
   "outputs": [],
   "source": []
  }
 ],
 "metadata": {
  "kernelspec": {
   "display_name": "Python 3",
   "language": "python",
   "name": "python3"
  },
  "language_info": {
   "codemirror_mode": {
    "name": "ipython",
    "version": 3
   },
   "file_extension": ".py",
   "mimetype": "text/x-python",
   "name": "python",
   "nbconvert_exporter": "python",
   "pygments_lexer": "ipython3",
   "version": "3.7.4"
  }
 },
 "nbformat": 4,
 "nbformat_minor": 2
}
